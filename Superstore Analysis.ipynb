{
 "cells": [
  {
   "cell_type": "markdown",
   "id": "751ef8e5-f2b6-4582-b845-61e5ebf820a9",
   "metadata": {},
   "source": [
    "# About the data"
   ]
  },
  {
   "cell_type": "markdown",
   "id": "ae4fe4ea-c01c-4424-9831-1027b09f4eda",
   "metadata": {},
   "source": [
    "The \"Superstore Sales\" dataset is a comprehensive and versatile collection of data that provides valuable insights into sales, customer behavior, and product performance. This dataset offers a rich resource for in-depth analysis.\n",
    "\n",
    "Containing information from diverse regions and segments, the dataset enables exploration of trends, patterns, and correlations in sales and customer preferences. The dataset encompasses sales transactions, enabling researchers and analysts to understand buying patterns, identify high-demand products, and assess the effectiveness of different shipping modes.\n",
    "\n",
    "Moreover, the dataset provides an opportunity to examine the impact of various factors such as discounts, geographical locations, and product categories on profitability. By analyzing this dataset, businesses and data enthusiasts can uncover actionable insights for optimizing pricing strategies, supply chain management, and customer engagement.\n",
    "\n",
    "Whether used for educational purposes, business strategy formulation, or data analysis practice, the \"Superstore Sales\" dataset offers a comprehensive platform to delve into the dynamics of sales operations, customer interactions, and the factors that drive business success."
   ]
  },
  {
   "cell_type": "markdown",
   "id": "46817886-13b0-4eb9-8ac2-0ffe26b91b12",
   "metadata": {},
   "source": [
    "# The dashboard"
   ]
  },
  {
   "cell_type": "markdown",
   "id": "41ed805d-0ddb-4edd-9de9-555ae16bc579",
   "metadata": {},
   "source": [
    "We decided to analyse the sales performance of the Superstore using a PBI report with 03 insightful pages\n",
    "\n",
    "1- Overview page : \n",
    "This report page provides a high-level summaryof key sales and key customers\n",
    "\n",
    "2- Customer page : \n",
    "This report page offers detailed insight into customers behaviour\n",
    "\n",
    "3- Product page : \n",
    "This report page analyses product's category and sub-categories performance\n"
   ]
  },
  {
   "cell_type": "markdown",
   "id": "61503305-7b2a-4807-ab09-5a30c4ee95cd",
   "metadata": {},
   "source": [
    "# Setting up the environment"
   ]
  },
  {
   "cell_type": "markdown",
   "id": "741cb7b3-2022-4d2e-b172-a551ffe3096c",
   "metadata": {},
   "source": [
    "We use the Powerbiclient extension to embed our PBI report into the jupyter notebook"
   ]
  },
  {
   "cell_type": "code",
   "execution_count": null,
   "id": "f66a0b3b-3a37-4f74-918b-5a26690ca65d",
   "metadata": {},
   "outputs": [],
   "source": [
    "#Import Report class and models from the package:\n",
    "from powerbiclient import Report, models\n",
    "\n",
    "# The libraries\n",
    "import pandas as pd\n",
    "import matplotlib\n",
    "from ipywidgets import interact\n",
    "import requests\n",
    "from io import StringIO\n",
    "\n",
    "#Authenticate against Power BI using Azure AD:\n",
    "# Import the DeviceCodeLoginAuthentication class to authenticate against Power BI\n",
    "from powerbiclient.authentication import DeviceCodeLoginAuthentication\n",
    "\n",
    "# Initiate device authentication\n",
    "device_auth = DeviceCodeLoginAuthentication()"
   ]
  },
  {
   "cell_type": "code",
   "execution_count": 4,
   "id": "feda6f7b-ce89-4153-82d8-a9214ebdb1c0",
   "metadata": {},
   "outputs": [],
   "source": [
    "#Set the workspace ID and report ID you’d like to embed:\n",
    "group_id='58004c6e-f985-4f73-92ae-8aa6bac88630'\n",
    "report_id='94f15260-bbaa-4176-8cac-36550752cd07'"
   ]
  },
  {
   "cell_type": "code",
   "execution_count": 12,
   "id": "31104ab8-32e0-4433-b2fa-cc77c0883f9f",
   "metadata": {},
   "outputs": [
    {
     "data": {
      "application/vnd.jupyter.widget-view+json": {
       "model_id": "7fb234b5e3834dcca75d58e147e4b004",
       "version_major": 2,
       "version_minor": 0
      },
      "text/plain": [
       "Report()"
      ]
     },
     "execution_count": 12,
     "metadata": {},
     "output_type": "execute_result"
    }
   ],
   "source": [
    "#Create an instance of Power BI report and load the report to the output cell:\n",
    "report = Report(group_id=group_id, report_id=report_id, auth=device_auth)\n",
    "report"
   ]
  }
 ],
 "metadata": {
  "kernelspec": {
   "display_name": "Python 3 (ipykernel)",
   "language": "python",
   "name": "python3"
  },
  "language_info": {
   "codemirror_mode": {
    "name": "ipython",
    "version": 3
   },
   "file_extension": ".py",
   "mimetype": "text/x-python",
   "name": "python",
   "nbconvert_exporter": "python",
   "pygments_lexer": "ipython3",
   "version": "3.12.3"
  }
 },
 "nbformat": 4,
 "nbformat_minor": 5
}
